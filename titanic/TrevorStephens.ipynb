{
 "cells": [
  {
   "cell_type": "code",
   "execution_count": 1,
   "metadata": {
    "collapsed": false
   },
   "outputs": [
    {
     "name": "stderr",
     "output_type": "stream",
     "text": [
      "/home/makala/anaconda/lib/python2.7/site-packages/sklearn/cross_validation.py:44: DeprecationWarning: This module was deprecated in version 0.18 in favor of the model_selection module into which all the refactored classes and functions are moved. Also note that the interface of the new CV iterators are different from that of this module. This module will be removed in 0.20.\n",
      "  \"This module will be removed in 0.20.\", DeprecationWarning)\n"
     ]
    }
   ],
   "source": [
    "import pandas as pd\n",
    "import numpy as np\n",
    "from sklearn import preprocessing\n",
    "from sklearn.ensemble import RandomForestClassifier\n",
    "from sklearn import cross_validation"
   ]
  },
  {
   "cell_type": "code",
   "execution_count": 2,
   "metadata": {
    "collapsed": false
   },
   "outputs": [
    {
     "name": "stderr",
     "output_type": "stream",
     "text": [
      "/home/makala/anaconda/lib/python2.7/site-packages/IPython/kernel/__main__.py:35: SettingWithCopyWarning: \n",
      "A value is trying to be set on a copy of a slice from a DataFrame\n",
      "\n",
      "See the the caveats in the documentation: http://pandas.pydata.org/pandas-docs/stable/indexing.html#indexing-view-versus-copy\n",
      "/home/makala/anaconda/lib/python2.7/site-packages/IPython/kernel/__main__.py:36: SettingWithCopyWarning: \n",
      "A value is trying to be set on a copy of a slice from a DataFrame\n",
      "\n",
      "See the the caveats in the documentation: http://pandas.pydata.org/pandas-docs/stable/indexing.html#indexing-view-versus-copy\n",
      "/home/makala/anaconda/lib/python2.7/site-packages/IPython/kernel/__main__.py:37: SettingWithCopyWarning: \n",
      "A value is trying to be set on a copy of a slice from a DataFrame\n",
      "\n",
      "See the the caveats in the documentation: http://pandas.pydata.org/pandas-docs/stable/indexing.html#indexing-view-versus-copy\n",
      "/home/makala/anaconda/lib/python2.7/site-packages/IPython/kernel/__main__.py:38: SettingWithCopyWarning: \n",
      "A value is trying to be set on a copy of a slice from a DataFrame\n",
      "\n",
      "See the the caveats in the documentation: http://pandas.pydata.org/pandas-docs/stable/indexing.html#indexing-view-versus-copy\n",
      "/home/makala/anaconda/lib/python2.7/site-packages/IPython/kernel/__main__.py:39: SettingWithCopyWarning: \n",
      "A value is trying to be set on a copy of a slice from a DataFrame\n",
      "\n",
      "See the the caveats in the documentation: http://pandas.pydata.org/pandas-docs/stable/indexing.html#indexing-view-versus-copy\n"
     ]
    },
    {
     "data": {
      "text/plain": [
       "Index([u'PassengerId', u'Survived', u'Pclass', u'Name', u'Sex', u'Age', u'SibSp', u'Parch', u'Ticket', u'Fare', u'Cabin', u'Embarked', u'CabinLetter', u'FareBin', u'Names', u'Title', u'TicketPrefixId', u'TicketNumberDigits', u'TicketNumberStart', u'FamilySize', u'FamilyName', u'FamilyID'], dtype='object')"
      ]
     },
     "execution_count": 2,
     "metadata": {},
     "output_type": "execute_result"
    }
   ],
   "source": [
    "input_df = pd.read_csv('train.csv')\n",
    "test_df = pd.read_csv('test.csv')\n",
    "# Merging the two data frames for better account on missing values and feature engineering\n",
    "df = pd.concat([input_df, test_df])\n",
    "df.reset_index(inplace=True)\n",
    "df.drop('index', axis=1, inplace=True)\n",
    "df = df.reindex_axis(input_df.columns, axis=1)\n",
    "df.shape\n",
    "df.columns\n",
    "#deal with missing values\n",
    "df['Cabin'].fillna('U0',inplace=True)\n",
    "fare_median = df['Fare'].dropna().median()\n",
    "df['Fare'].fillna(fare_median, inplace=True)\n",
    "embarked_mode = df['Embarked'].dropna().mode().values[0]\n",
    "df['Embarked'].fillna(embarked_mode, inplace=True)\n",
    "#df.columns[pd.isnull(df).any()]\n",
    "\n",
    "\n",
    "#transform to numeric data as sklearn accepts only numeric data\n",
    "import re\n",
    "\n",
    "df['CabinLetter'] = df['Cabin'].map(lambda x : re.compile(\"([a-zA-Z]+)\").search(x).group())\n",
    "df['CabinLetter'] = pd.factorize(df['CabinLetter'])[0]\n",
    "\n",
    "#dividing into quartiles\n",
    "df['FareBin'] = pd.factorize(pd.qcut(df['Fare'], 4))[0]\n",
    "\n",
    "#derived Variables\n",
    "df['Names'] = df['Name'].map(lambda x : len(re.split(' ',x)))\n",
    "\n",
    "# What is each person's title? \n",
    "df['Title'] = df['Name'].map(lambda x: re.compile(\", (.*?)\\.\").findall(x)[0])\n",
    " \n",
    "# Group low-occuring, related titles together\n",
    "df['Title'][df.Title == 'Jonkheer'] = 'Master'\n",
    "df['Title'][df.Title.isin(['Ms','Mlle'])] = 'Miss'\n",
    "df['Title'][df.Title == 'Mme'] = 'Mrs'\n",
    "df['Title'][df.Title.isin(['Capt', 'Don', 'Major', 'Col', 'Sir'])] = 'Sir'\n",
    "df['Title'][df.Title.isin(['Dona', 'Lady', 'the Countess'])] = 'Lady'\n",
    "\n",
    "\n",
    "\n",
    "def getTicketPrefix(ticket):\n",
    "    match = re.compile(\"([a-zA-Z\\.\\/]+)\").search(ticket)\n",
    "    if match:\n",
    "        return match.group()\n",
    "    else:\n",
    "        return 'U'\n",
    " \n",
    "def getTicketNumber(ticket):\n",
    "    match = re.compile(\"([\\d]+$)\").search(ticket)\n",
    "    if match:\n",
    "        return match.group()\n",
    "    else:\n",
    "        return '0'\n",
    "    \n",
    "    \n",
    "df['TicketPrefix'] = df['Ticket'].map( lambda x : getTicketPrefix(x.upper()))\n",
    "df['TicketPrefix'] = df['TicketPrefix'].map( lambda x: re.sub('[\\.?\\/?]', '', x) )\n",
    "df['TicketPrefix'] = df['TicketPrefix'].map( lambda x: re.sub('STON', 'SOTON', x) )\n",
    "\n",
    "df['TicketPrefixId'] = pd.factorize(df['TicketPrefix'])[0]\n",
    "\n",
    "# extract the ticket number\n",
    "df['TicketNumber'] = df['Ticket'].map( lambda x: getTicketNumber(x) )\n",
    "\n",
    "# create a feature for the number of digits in the ticket number\n",
    "df['TicketNumberDigits'] = df['TicketNumber'].map( lambda x: len(x) ).astype(np.int)\n",
    "\n",
    "# create a feature for the starting number of the ticket number\n",
    "df['TicketNumberStart'] = df['TicketNumber'].map( lambda x: x[0:1] ).astype(np.int)\n",
    "\n",
    "# The prefix and (probably) number themselves aren't useful\n",
    "df.drop(['TicketPrefix', 'TicketNumber'], axis=1, inplace=True)\n",
    "\n",
    "\n",
    "df['Embarked'] = pd.factorize(df['Embarked'])[0]\n",
    "df['Title'] = pd.factorize(df['Title'])[0]\n",
    "\n",
    "from sklearn import linear_model\n",
    "\n",
    "age_df = df[['Age','Pclass', 'SibSp', 'Parch', 'Fare', 'CabinLetter', 'Embarked', 'Title','Names']]\n",
    "known_age = age_df.loc[df.Age.notnull()]\n",
    "unknown_age = age_df.loc[df.Age.isnull()]\n",
    "x = known_age.values[:,1::]\n",
    "y = known_age.values[:,0]\n",
    "\n",
    "regr =linear_model.LinearRegression()\n",
    "regr.fit(x,y)\n",
    "\n",
    "predicted_ages = regr.predict(unknown_age.values[:,1::])\n",
    "df.loc[df.Age.isnull(), 'Age'] = predicted_ages\n",
    "df[\"FamilySize\"] = df[\"SibSp\"]+ df[\"Parch\"]\n",
    "\n",
    "df.columns[pd.isnull(df).any()]\n",
    "df['FamilyName'] = df['Name'].map(lambda x: re.compile(\"(.*),.*\").search(x).group(1))\n",
    "df['FamilyID'] = df['FamilySize'].astype(str) + df['FamilyName']\n",
    "df[['Name', 'FamilyName','FamilySize','FamilyID']]\n",
    "\n",
    "#df[df.FamilySize <=2]['FamilyID'] = 'Small'\n",
    "\n",
    "df.loc[df.FamilySize <=3, 'FamilyID'] = 'Small'\n",
    "df.columns\n",
    "df['Sex'] = pd.factorize(df['Sex'])[0]\n",
    "df['FamilyID'] = pd.factorize(df['FamilyID'])[0]\n",
    "df.columns"
   ]
  },
  {
   "cell_type": "code",
   "execution_count": 3,
   "metadata": {
    "collapsed": false
   },
   "outputs": [],
   "source": [
    "all = df[['Survived', u'Pclass', u'Sex', u'Age', 'SibSp','Parch','Fare','Embarked',u'CabinLetter', u'FareBin', u'Title', u'TicketPrefixId', u'FamilySize', 'FamilyID']]\n",
    "all.columns[pd.isnull(all).any()]\n",
    "train = all[all.Survived.notnull()]\n",
    "train\n",
    "x = train.values[:,1::]\n",
    "y = train.values[:,0]\n",
    "\n",
    "# max_score = 0\n",
    "# max_estimators = 0\n",
    "# for i in range(700,1001,100):\n",
    "#     alg = RandomForestClassifier(n_estimators = i, max_features = None, warm_start = True)\n",
    "#     scores = cross_validation.cross_val_score(alg,x,y,cv=10)\n",
    "#     print i,\"The cross validation accuracy is \", scores.mean()\n",
    "#     if scores.mean() > max_score:\n",
    "#         max_score = scores.mean()\n",
    "#         max_estimators = i\n",
    "# max_estimators"
   ]
  },
  {
   "cell_type": "code",
   "execution_count": 4,
   "metadata": {
    "collapsed": false
   },
   "outputs": [
    {
     "name": "stderr",
     "output_type": "stream",
     "text": [
      "/home/makala/anaconda/lib/python2.7/site-packages/IPython/kernel/__main__.py:4: SettingWithCopyWarning: \n",
      "A value is trying to be set on a copy of a slice from a DataFrame\n",
      "\n",
      "See the the caveats in the documentation: http://pandas.pydata.org/pandas-docs/stable/indexing.html#indexing-view-versus-copy\n"
     ]
    }
   ],
   "source": [
    "forest =RandomForestClassifier(n_estimators = 2000, max_features = 'sqrt', warm_start = True)\n",
    "forest.fit(x,y)\n",
    "test = all[all.Survived.isnull()]\n",
    "test.drop('Survived', axis = 1, inplace=True)\n",
    "p_ids = df[df.Survived.isnull()]['PassengerId']\n",
    "p_ids\n",
    "survived = forest.predict(test)\n",
    "survived = [int(val) for val in survived]\n",
    "import numpy as np\n",
    "survived = np.asanyarray(survived)\n",
    "ans = pd.DataFrame(data = p_ids)\n",
    "ans[\"Survived\"] = survived\n",
    "ans.to_csv(\"rfmodel_TS.csv\",index=False)\n",
    "\n"
   ]
  },
  {
   "cell_type": "code",
   "execution_count": 5,
   "metadata": {
    "collapsed": false
   },
   "outputs": [
    {
     "data": {
      "text/plain": [
       "(Index([u'Pclass', u'Sex', u'Age', u'Fare', u'CabinLetter', u'FareBin', u'Title', u'TicketPrefixId', u'FamilySize'], dtype='object'),\n",
       " [1, 2, 3, 6, 8, 9, 10, 11, 12])"
      ]
     },
     "execution_count": 5,
     "metadata": {},
     "output_type": "execute_result"
    }
   ],
   "source": [
    "imp = forest.feature_importances_\n",
    "imp = 100.0 * (imp / imp.max())\n",
    "important_idx = np.where(imp > 15)[0]\n",
    "important_idx = [index+1 for index in important_idx]\n",
    "important_idx\n",
    "columns = all.columns[important_idx]\n",
    "columns, important_idx"
   ]
  },
  {
   "cell_type": "code",
   "execution_count": null,
   "metadata": {
    "collapsed": true
   },
   "outputs": [],
   "source": []
  }
 ],
 "metadata": {
  "kernelspec": {
   "display_name": "Python 2",
   "language": "python",
   "name": "python2"
  },
  "language_info": {
   "codemirror_mode": {
    "name": "ipython",
    "version": 2
   },
   "file_extension": ".py",
   "mimetype": "text/x-python",
   "name": "python",
   "nbconvert_exporter": "python",
   "pygments_lexer": "ipython2",
   "version": "2.7.12"
  }
 },
 "nbformat": 4,
 "nbformat_minor": 0
}
